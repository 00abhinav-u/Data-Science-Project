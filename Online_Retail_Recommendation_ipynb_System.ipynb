{
  "nbformat": 4,
  "nbformat_minor": 0,
  "metadata": {
    "colab": {
      "private_outputs": true,
      "provenance": [],
      "authorship_tag": "ABX9TyOpklQr79oGT46n23ro2aLH",
      "include_colab_link": true
    },
    "kernelspec": {
      "name": "python3",
      "display_name": "Python 3"
    },
    "language_info": {
      "name": "python"
    }
  },
  "cells": [
    {
      "cell_type": "markdown",
      "metadata": {
        "id": "view-in-github",
        "colab_type": "text"
      },
      "source": [
        "<a href=\"https://colab.research.google.com/github/00abhinav-u/Data-Science-Project/blob/main/Online_Retail_Recommendation_ipynb_System.ipynb\" target=\"_parent\"><img src=\"https://colab.research.google.com/assets/colab-badge.svg\" alt=\"Open In Colab\"/></a>"
      ]
    },
    {
      "cell_type": "code",
      "execution_count": null,
      "metadata": {
        "id": "jTQHQCJnkuKG"
      },
      "outputs": [],
      "source": [
        "pip install pandas numpy scipy scikit-learn matplotlib seaborn"
      ]
    },
    {
      "cell_type": "code",
      "source": [
        "import pandas as pd\n",
        "import numpy as np\n",
        "from sklearn.metrics.pairwise import cosine_similarity\n",
        "from scipy.sparse import csr_matrix\n",
        "import matplotlib.pyplot as plt\n",
        "import seaborn as sns\n",
        "\n",
        "def load_and_preprocess_data(file_path=\"/content/retail_data.csv.xlsx\"):\n",
        "    try:\n",
        "        df = pd.read_excel(file_path)\n",
        "        df = df.dropna(subset=['CustomerID'])\n",
        "        df['CustomerID'] = df['CustomerID'].astype(int)\n",
        "        df = df[df['Quantity'] > 0]\n",
        "        df['TotalPrice'] = df['Quantity'] * df['UnitPrice']\n",
        "        df['InvoiceDate'] = pd.to_datetime(df['InvoiceDate'])\n",
        "        return df\n",
        "    except FileNotFoundError:\n",
        "        print(f\"Error: File not found at {file_path}\")\n",
        "        return None\n",
        "    except Exception as e:\n",
        "        print(f\"Error loading data: {str(e)}\")\n",
        "        return None\n",
        "\n",
        "def create_user_item_matrix(df):\n",
        "    user_item_matrix = pd.pivot_table(df,\n",
        "                                    index='CustomerID',\n",
        "                                    columns='StockCode',\n",
        "                                    values='Quantity',\n",
        "                                    aggfunc='sum',\n",
        "                                    fill_value=0)\n",
        "    sparse_matrix = csr_matrix(user_item_matrix.values)\n",
        "    return sparse_matrix, user_item_matrix\n",
        "\n",
        "def calculate_similarity(sparse_matrix):\n",
        "    item_similarity = cosine_similarity(sparse_matrix.T)\n",
        "    return item_similarity\n",
        "\n",
        "def get_recommendations(customer_id, user_item_matrix, item_similarity, n_recommendations=5):\n",
        "    customer_purchases = user_item_matrix.loc[customer_id]\n",
        "    unpurchased_items = customer_purchases[customer_purchases == 0].index\n",
        "    scores = pd.Series(0, index=unpurchased_items)\n",
        "    purchased_items = customer_purchases[customer_purchases > 0].index\n",
        "    for item in unpurchased_items:\n",
        "        item_idx = user_item_matrix.columns.get_loc(item)\n",
        "        similarity_scores = []\n",
        "        for purchased_item in purchased_items:\n",
        "            purchased_idx = user_item_matrix.columns.get_loc(purchased_item)\n",
        "            similarity_scores.append(item_similarity[item_idx][purchased_idx])\n",
        "        if similarity_scores:\n",
        "            scores[item] = np.mean(similarity_scores)\n",
        "    recommendations = scores.sort_values(ascending=False).head(n_recommendations)\n",
        "    return recommendations\n",
        "\n",
        "def plot_purchase_distribution(df):\n",
        "    plt.figure(figsize=(10, 6))\n",
        "    sns.histplot(data=df, x='Quantity', bins=50)\n",
        "    plt.title('Distribution of Purchase Quantities')\n",
        "    plt.xlabel('Quantity')\n",
        "    plt.ylabel('Count')\n",
        "    plt.show()\n",
        "\n",
        "def plot_top_products(df):\n",
        "    top_products = df.groupby('Description')['Quantity'].sum().sort_values(ascending=False).head(10)\n",
        "    plt.figure(figsize=(12, 6))\n",
        "    sns.barplot(x=top_products.values, y=top_products.index)\n",
        "    plt.title('Top 10 Most Purchased Products')\n",
        "    plt.xlabel('Total Quantity')\n",
        "    plt.ylabel('Product Description')\n",
        "    plt.show()\n",
        "\n",
        "def main():\n",
        "    file_path = \"/content/retail_data.csv.xlsx\"\n",
        "    print(\"Loading and preprocessing data...\")\n",
        "    df = load_and_preprocess_data(file_path)\n",
        "    if df is None:\n",
        "        return\n",
        "    print(\"\\nDataset Info:\")\n",
        "    print(df.info())\n",
        "    print(\"\\nDataset Shape:\", df.shape)\n",
        "    print(\"\\nSample Data:\")\n",
        "    print(df.head())\n",
        "    print(\"\\nCreating user-item matrix...\")\n",
        "    sparse_matrix, user_item_matrix = create_user_item_matrix(df)\n",
        "    print(\"Calculating item similarities...\")\n",
        "    item_similarity = calculate_similarity(sparse_matrix)\n",
        "    sample_customer = df['CustomerID'].iloc[0]\n",
        "    print(f\"\\nGenerating recommendations for Customer {sample_customer}...\")\n",
        "    recommendations = get_recommendations(sample_customer, user_item_matrix, item_similarity)\n",
        "    stock_to_desc = df[['StockCode', 'Description']].drop_duplicates().set_index('StockCode')\n",
        "    recommended_products = recommendations.index.map(lambda x: stock_to_desc.loc[x, 'Description']\n",
        "                                                    if x in stock_to_desc.index else x)\n",
        "    print(\"\\nTop 5 Recommended Products:\")\n",
        "    for i, (product, score) in enumerate(zip(recommended_products, recommendations.values), 1):\n",
        "        print(f\"{i}. {product} (Similarity Score: {score:.4f})\")\n",
        "    print(\"\\nGenerating visualizations...\")\n",
        "    plot_purchase_distribution(df)\n",
        "    plot_top_products(df)\n",
        "\n",
        "if __name__ == \"__main__\":\n",
        "    main()"
      ],
      "metadata": {
        "id": "nblk4u2-l1wN"
      },
      "execution_count": null,
      "outputs": []
    }
  ]
}